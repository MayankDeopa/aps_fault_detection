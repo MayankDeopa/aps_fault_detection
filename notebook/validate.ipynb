{
 "cells": [
  {
   "cell_type": "code",
   "execution_count": 2,
   "metadata": {},
   "outputs": [],
   "source": [
    "import numpy as np\n",
    "from scipy import stats\n",
    "rng = np.random.default_rng()\n",
    "sample1 = stats.uniform.rvs(size=100, random_state=rng)\n",
    "sample2 = stats.norm.rvs(size=110, random_state=rng)\n",
    "response = stats.ks_2samp(sample1, sample2)"
   ]
  },
  {
   "cell_type": "code",
   "execution_count": 3,
   "metadata": {},
   "outputs": [
    {
     "data": {
      "text/plain": [
       "array([0.67581172, 0.86620885, 0.04068383, 0.17317206, 0.09795348,\n",
       "       0.53293109, 0.42701984, 0.33322166, 0.02079503, 0.83878786,\n",
       "       0.36952647, 0.46006128, 0.48587351, 0.84294554, 0.08432521,\n",
       "       0.22747814, 0.44002423, 0.40348619, 0.53966633, 0.69648776,\n",
       "       0.62403978, 0.97119679, 0.58415331, 0.12001142, 0.51210547,\n",
       "       0.62328717, 0.62785689, 0.37181114, 0.01264601, 0.18433842,\n",
       "       0.26001154, 0.91868566, 0.7356634 , 0.31014688, 0.16004951,\n",
       "       0.63534448, 0.98201869, 0.39609226, 0.73968872, 0.25187111,\n",
       "       0.73316465, 0.28177301, 0.50330009, 0.10157754, 0.77945865,\n",
       "       0.24160853, 0.41864885, 0.70214009, 0.86293937, 0.8420608 ,\n",
       "       0.90323074, 0.4699963 , 0.68477732, 0.59979429, 0.49732684,\n",
       "       0.89669149, 0.37766368, 0.47256598, 0.13887543, 0.80648734,\n",
       "       0.04434194, 0.54451597, 0.8028726 , 0.28007262, 0.00274437,\n",
       "       0.80298184, 0.71481568, 0.47739341, 0.0350694 , 0.54740141,\n",
       "       0.97753712, 0.09616501, 0.27019694, 0.14424525, 0.91615941,\n",
       "       0.67205418, 0.14835883, 0.22812169, 0.96904946, 0.97887478,\n",
       "       0.96133013, 0.37438571, 0.67884514, 0.66668138, 0.36267077,\n",
       "       0.84633399, 0.69915473, 0.43718625, 0.40131352, 0.35837151,\n",
       "       0.41478098, 0.51435211, 0.33630413, 0.37309762, 0.7967386 ,\n",
       "       0.48518302, 0.3167441 , 0.25778471, 0.71665901, 0.05511155])"
      ]
     },
     "execution_count": 3,
     "metadata": {},
     "output_type": "execute_result"
    }
   ],
   "source": [
    "sample1"
   ]
  },
  {
   "cell_type": "code",
   "execution_count": 4,
   "metadata": {},
   "outputs": [
    {
     "data": {
      "text/plain": [
       "array([-0.29230025,  1.08119916, -1.62603259,  0.17117193,  0.14871065,\n",
       "       -0.93964681, -0.58756586,  0.19518739,  0.52536871,  0.81266751,\n",
       "        0.91387605,  0.0302461 , -0.88538872, -0.4964378 ,  0.02768629,\n",
       "        0.23193705, -0.43792505,  1.78922619,  1.89513907, -0.02979228,\n",
       "       -0.6814129 ,  1.23678142,  0.27910551, -1.42800424, -0.33926428,\n",
       "       -0.54881526, -1.44875813,  0.10356991, -0.3138359 ,  0.79049039,\n",
       "       -0.27992137, -0.29437283,  0.96953885,  0.36704991, -0.32417916,\n",
       "       -0.4590495 ,  0.36248087, -0.75651245, -1.59403092,  0.18228797,\n",
       "       -0.3444224 , -1.55169656,  1.43748323, -1.18743336,  0.88875321,\n",
       "       -0.60890775,  1.51940141,  1.06395808, -0.05422021, -0.15945042,\n",
       "       -0.19078202,  0.79963848,  0.23220913, -0.49227598, -0.21443076,\n",
       "        0.82450773,  0.54112904,  0.46017824, -1.26524751,  0.24567873,\n",
       "       -0.30924389, -0.42156403, -0.50021455, -0.63437487, -2.10813129,\n",
       "        0.31180398, -0.10364144, -1.21852354, -0.66921208, -1.53384097,\n",
       "        0.32329926, -0.14495034,  0.92947504, -0.01567357,  0.05967746,\n",
       "        1.58261895,  1.58151439, -1.08067001, -1.14486074, -0.35110827,\n",
       "        0.64996657,  0.77753686,  0.2081623 ,  1.42603291,  0.22769801,\n",
       "       -0.31636915,  1.38840916,  1.26409412,  1.06125636,  0.52452271,\n",
       "       -0.01325525,  0.85498854, -0.06875399, -1.8235783 ,  0.23204515,\n",
       "       -0.16344784,  0.09324605,  0.94696231,  0.88403844,  0.88431726,\n",
       "       -0.60503854,  0.31538627, -0.37263746, -0.17845217,  0.17438025,\n",
       "       -0.23450428,  0.54317757,  0.410788  , -0.01088645,  0.55521122])"
      ]
     },
     "execution_count": 4,
     "metadata": {},
     "output_type": "execute_result"
    }
   ],
   "source": [
    "sample2"
   ]
  },
  {
   "cell_type": "code",
   "execution_count": 5,
   "metadata": {},
   "outputs": [
    {
     "data": {
      "text/plain": [
       "5.2991e-12"
      ]
     },
     "execution_count": 5,
     "metadata": {},
     "output_type": "execute_result"
    }
   ],
   "source": [
    "round(response.pvalue,16)"
   ]
  },
  {
   "cell_type": "code",
   "execution_count": 8,
   "metadata": {},
   "outputs": [],
   "source": [
    "# #Anomly in my dataset\n",
    "# # \n",
    "# # 1.High Null Value\n",
    "# 2. Missing COlumns\n",
    "# 3. Outlier\n",
    "# 4. Categorical: \n",
    "# Gender--> MALE, FEMALE,OTHER"
   ]
  },
  {
   "cell_type": "code",
   "execution_count": 9,
   "metadata": {},
   "outputs": [],
   "source": [
    "import pandas as pd"
   ]
  },
  {
   "cell_type": "code",
   "execution_count": 10,
   "metadata": {},
   "outputs": [
    {
     "name": "stdout",
     "output_type": "stream",
     "text": [
      "1 4\n",
      "2 5\n",
      "3 6\n",
      "4 7\n"
     ]
    }
   ],
   "source": [
    "l1=[1,2,3,4]\n",
    "l2=[4,5,6,7]\n",
    "\n",
    "for l1_val,l2_val in zip(l1,l2):\n",
    "    print(l1_val,l2_val)"
   ]
  },
  {
   "cell_type": "code",
   "execution_count": 12,
   "metadata": {},
   "outputs": [],
   "source": [
    "df = pd.read_csv(\"/config/workspace/artifact/02212023__111755/data_ingestion/dataset/test.csv\")"
   ]
  },
  {
   "cell_type": "code",
   "execution_count": 13,
   "metadata": {},
   "outputs": [
    {
     "data": {
      "text/plain": [
       "0"
      ]
     },
     "execution_count": 13,
     "metadata": {},
     "output_type": "execute_result"
    }
   ],
   "source": [
    "len(df.iloc[:,[0]].drop(\"class\",axis=1).columns)"
   ]
  },
  {
   "cell_type": "code",
   "execution_count": null,
   "metadata": {},
   "outputs": [],
   "source": []
  }
 ],
 "metadata": {
  "kernelspec": {
   "display_name": "Python 3.8.10 64-bit",
   "language": "python",
   "name": "python3"
  },
  "language_info": {
   "codemirror_mode": {
    "name": "ipython",
    "version": 3
   },
   "file_extension": ".py",
   "mimetype": "text/x-python",
   "name": "python",
   "nbconvert_exporter": "python",
   "pygments_lexer": "ipython3",
   "version": "3.8.10"
  },
  "orig_nbformat": 4,
  "vscode": {
   "interpreter": {
    "hash": "e7370f93d1d0cde622a1f8e1c04877d8463912d04d973331ad4851f04de6915a"
   }
  }
 },
 "nbformat": 4,
 "nbformat_minor": 2
}
